{
 "cells": [
  {
   "cell_type": "code",
   "execution_count": 31,
   "id": "00dd2c32-806d-4af9-aefc-201d9f80c968",
   "metadata": {},
   "outputs": [
    {
     "data": {
      "text/html": [
       "<div>\n",
       "<style scoped>\n",
       "    .dataframe tbody tr th:only-of-type {\n",
       "        vertical-align: middle;\n",
       "    }\n",
       "\n",
       "    .dataframe tbody tr th {\n",
       "        vertical-align: top;\n",
       "    }\n",
       "\n",
       "    .dataframe thead th {\n",
       "        text-align: right;\n",
       "    }\n",
       "</style>\n",
       "<table border=\"1\" class=\"dataframe\">\n",
       "  <thead>\n",
       "    <tr style=\"text-align: right;\">\n",
       "      <th></th>\n",
       "      <th>country</th>\n",
       "      <th>country_long</th>\n",
       "      <th>name</th>\n",
       "      <th>gppd_idnr</th>\n",
       "      <th>capacity_mw</th>\n",
       "      <th>latitude</th>\n",
       "      <th>longitude</th>\n",
       "      <th>primary_fuel</th>\n",
       "      <th>other_fuel1</th>\n",
       "      <th>other_fuel2</th>\n",
       "      <th>...</th>\n",
       "      <th>estimated_generation_gwh_2013</th>\n",
       "      <th>estimated_generation_gwh_2014</th>\n",
       "      <th>estimated_generation_gwh_2015</th>\n",
       "      <th>estimated_generation_gwh_2016</th>\n",
       "      <th>estimated_generation_gwh_2017</th>\n",
       "      <th>estimated_generation_note_2013</th>\n",
       "      <th>estimated_generation_note_2014</th>\n",
       "      <th>estimated_generation_note_2015</th>\n",
       "      <th>estimated_generation_note_2016</th>\n",
       "      <th>estimated_generation_note_2017</th>\n",
       "    </tr>\n",
       "  </thead>\n",
       "  <tbody>\n",
       "    <tr>\n",
       "      <th>0</th>\n",
       "      <td>AFG</td>\n",
       "      <td>Afghanistan</td>\n",
       "      <td>Kajaki Hydroelectric Power Plant Afghanistan</td>\n",
       "      <td>GEODB0040538</td>\n",
       "      <td>33.0</td>\n",
       "      <td>32.322</td>\n",
       "      <td>65.1190</td>\n",
       "      <td>Hydro</td>\n",
       "      <td>NaN</td>\n",
       "      <td>NaN</td>\n",
       "      <td>...</td>\n",
       "      <td>123.77</td>\n",
       "      <td>162.90</td>\n",
       "      <td>97.39</td>\n",
       "      <td>137.76</td>\n",
       "      <td>119.50</td>\n",
       "      <td>HYDRO-V1</td>\n",
       "      <td>HYDRO-V1</td>\n",
       "      <td>HYDRO-V1</td>\n",
       "      <td>HYDRO-V1</td>\n",
       "      <td>HYDRO-V1</td>\n",
       "    </tr>\n",
       "    <tr>\n",
       "      <th>1</th>\n",
       "      <td>AFG</td>\n",
       "      <td>Afghanistan</td>\n",
       "      <td>Kandahar DOG</td>\n",
       "      <td>WKS0070144</td>\n",
       "      <td>10.0</td>\n",
       "      <td>31.670</td>\n",
       "      <td>65.7950</td>\n",
       "      <td>Solar</td>\n",
       "      <td>NaN</td>\n",
       "      <td>NaN</td>\n",
       "      <td>...</td>\n",
       "      <td>18.43</td>\n",
       "      <td>17.48</td>\n",
       "      <td>18.25</td>\n",
       "      <td>17.70</td>\n",
       "      <td>18.29</td>\n",
       "      <td>SOLAR-V1-NO-AGE</td>\n",
       "      <td>SOLAR-V1-NO-AGE</td>\n",
       "      <td>SOLAR-V1-NO-AGE</td>\n",
       "      <td>SOLAR-V1-NO-AGE</td>\n",
       "      <td>SOLAR-V1-NO-AGE</td>\n",
       "    </tr>\n",
       "    <tr>\n",
       "      <th>2</th>\n",
       "      <td>AFG</td>\n",
       "      <td>Afghanistan</td>\n",
       "      <td>Kandahar JOL</td>\n",
       "      <td>WKS0071196</td>\n",
       "      <td>10.0</td>\n",
       "      <td>31.623</td>\n",
       "      <td>65.7920</td>\n",
       "      <td>Solar</td>\n",
       "      <td>NaN</td>\n",
       "      <td>NaN</td>\n",
       "      <td>...</td>\n",
       "      <td>18.64</td>\n",
       "      <td>17.58</td>\n",
       "      <td>19.10</td>\n",
       "      <td>17.62</td>\n",
       "      <td>18.72</td>\n",
       "      <td>SOLAR-V1-NO-AGE</td>\n",
       "      <td>SOLAR-V1-NO-AGE</td>\n",
       "      <td>SOLAR-V1-NO-AGE</td>\n",
       "      <td>SOLAR-V1-NO-AGE</td>\n",
       "      <td>SOLAR-V1-NO-AGE</td>\n",
       "    </tr>\n",
       "    <tr>\n",
       "      <th>3</th>\n",
       "      <td>AFG</td>\n",
       "      <td>Afghanistan</td>\n",
       "      <td>Mahipar Hydroelectric Power Plant Afghanistan</td>\n",
       "      <td>GEODB0040541</td>\n",
       "      <td>66.0</td>\n",
       "      <td>34.556</td>\n",
       "      <td>69.4787</td>\n",
       "      <td>Hydro</td>\n",
       "      <td>NaN</td>\n",
       "      <td>NaN</td>\n",
       "      <td>...</td>\n",
       "      <td>225.06</td>\n",
       "      <td>203.55</td>\n",
       "      <td>146.90</td>\n",
       "      <td>230.18</td>\n",
       "      <td>174.91</td>\n",
       "      <td>HYDRO-V1</td>\n",
       "      <td>HYDRO-V1</td>\n",
       "      <td>HYDRO-V1</td>\n",
       "      <td>HYDRO-V1</td>\n",
       "      <td>HYDRO-V1</td>\n",
       "    </tr>\n",
       "    <tr>\n",
       "      <th>4</th>\n",
       "      <td>AFG</td>\n",
       "      <td>Afghanistan</td>\n",
       "      <td>Naghlu Dam Hydroelectric Power Plant Afghanistan</td>\n",
       "      <td>GEODB0040534</td>\n",
       "      <td>100.0</td>\n",
       "      <td>34.641</td>\n",
       "      <td>69.7170</td>\n",
       "      <td>Hydro</td>\n",
       "      <td>NaN</td>\n",
       "      <td>NaN</td>\n",
       "      <td>...</td>\n",
       "      <td>406.16</td>\n",
       "      <td>357.22</td>\n",
       "      <td>270.99</td>\n",
       "      <td>395.38</td>\n",
       "      <td>350.80</td>\n",
       "      <td>HYDRO-V1</td>\n",
       "      <td>HYDRO-V1</td>\n",
       "      <td>HYDRO-V1</td>\n",
       "      <td>HYDRO-V1</td>\n",
       "      <td>HYDRO-V1</td>\n",
       "    </tr>\n",
       "  </tbody>\n",
       "</table>\n",
       "<p>5 rows × 36 columns</p>\n",
       "</div>"
      ],
      "text/plain": [
       "  country country_long                                              name  \\\n",
       "0     AFG  Afghanistan      Kajaki Hydroelectric Power Plant Afghanistan   \n",
       "1     AFG  Afghanistan                                      Kandahar DOG   \n",
       "2     AFG  Afghanistan                                      Kandahar JOL   \n",
       "3     AFG  Afghanistan     Mahipar Hydroelectric Power Plant Afghanistan   \n",
       "4     AFG  Afghanistan  Naghlu Dam Hydroelectric Power Plant Afghanistan   \n",
       "\n",
       "      gppd_idnr  capacity_mw  latitude  longitude primary_fuel other_fuel1  \\\n",
       "0  GEODB0040538         33.0    32.322    65.1190        Hydro         NaN   \n",
       "1    WKS0070144         10.0    31.670    65.7950        Solar         NaN   \n",
       "2    WKS0071196         10.0    31.623    65.7920        Solar         NaN   \n",
       "3  GEODB0040541         66.0    34.556    69.4787        Hydro         NaN   \n",
       "4  GEODB0040534        100.0    34.641    69.7170        Hydro         NaN   \n",
       "\n",
       "  other_fuel2  ... estimated_generation_gwh_2013  \\\n",
       "0         NaN  ...                        123.77   \n",
       "1         NaN  ...                         18.43   \n",
       "2         NaN  ...                         18.64   \n",
       "3         NaN  ...                        225.06   \n",
       "4         NaN  ...                        406.16   \n",
       "\n",
       "   estimated_generation_gwh_2014 estimated_generation_gwh_2015  \\\n",
       "0                         162.90                         97.39   \n",
       "1                          17.48                         18.25   \n",
       "2                          17.58                         19.10   \n",
       "3                         203.55                        146.90   \n",
       "4                         357.22                        270.99   \n",
       "\n",
       "  estimated_generation_gwh_2016 estimated_generation_gwh_2017  \\\n",
       "0                        137.76                        119.50   \n",
       "1                         17.70                         18.29   \n",
       "2                         17.62                         18.72   \n",
       "3                        230.18                        174.91   \n",
       "4                        395.38                        350.80   \n",
       "\n",
       "  estimated_generation_note_2013 estimated_generation_note_2014  \\\n",
       "0                       HYDRO-V1                       HYDRO-V1   \n",
       "1                SOLAR-V1-NO-AGE                SOLAR-V1-NO-AGE   \n",
       "2                SOLAR-V1-NO-AGE                SOLAR-V1-NO-AGE   \n",
       "3                       HYDRO-V1                       HYDRO-V1   \n",
       "4                       HYDRO-V1                       HYDRO-V1   \n",
       "\n",
       "   estimated_generation_note_2015  estimated_generation_note_2016  \\\n",
       "0                        HYDRO-V1                        HYDRO-V1   \n",
       "1                 SOLAR-V1-NO-AGE                 SOLAR-V1-NO-AGE   \n",
       "2                 SOLAR-V1-NO-AGE                 SOLAR-V1-NO-AGE   \n",
       "3                        HYDRO-V1                        HYDRO-V1   \n",
       "4                        HYDRO-V1                        HYDRO-V1   \n",
       "\n",
       "   estimated_generation_note_2017  \n",
       "0                        HYDRO-V1  \n",
       "1                 SOLAR-V1-NO-AGE  \n",
       "2                 SOLAR-V1-NO-AGE  \n",
       "3                        HYDRO-V1  \n",
       "4                        HYDRO-V1  \n",
       "\n",
       "[5 rows x 36 columns]"
      ]
     },
     "execution_count": 31,
     "metadata": {},
     "output_type": "execute_result"
    }
   ],
   "source": [
    "### Step 1: Load the Global Power Plant Dataset\n",
    "\n",
    "import pandas as pd  # Library to handle dataframes\n",
    "\n",
    "# Load the CSV file safely (avoids dtype warnings using low_memory=False)\n",
    "file_path = \"global_power_plant_database.csv\"  # Update path if needed\n",
    "df = pd.read_csv(file_path, low_memory=False)\n",
    "\n",
    "# Display the first 5 rows to understand structure\n",
    "df.head()\n"
   ]
  },
  {
   "cell_type": "code",
   "execution_count": 32,
   "id": "aab9c1ee-0933-4ea1-9aab-2e2f710344b1",
   "metadata": {},
   "outputs": [
    {
     "data": {
      "text/plain": [
       "(33138, 36)"
      ]
     },
     "execution_count": 32,
     "metadata": {},
     "output_type": "execute_result"
    }
   ],
   "source": [
    "### Step 2: Filter dataset to include only rows where 2017 generation data is available\n",
    "\n",
    "# We keep only those power plants that have a non-null value for estimated generation in 2017\n",
    "df_filtered = df[df['estimated_generation_gwh_2017'].notnull()]\n",
    "\n",
    "# Check how many rows are remaining after filtering\n",
    "df_filtered.shape\n"
   ]
  },
  {
   "cell_type": "code",
   "execution_count": 44,
   "id": "f2b239d9-126c-47ed-9e03-cfa89ac8080e",
   "metadata": {},
   "outputs": [],
   "source": [
    "### Step 3: Mark Plants with Policy Incentives (Solar/Wind)\n",
    "df_filtered = df_filtered.copy()  # Prevent SettingWithCopyWarning\n",
    "\n",
    "# Add a new binary column: 1 if the plant uses Solar or Wind, else 0\n",
    "df_filtered['policy_incentive'] = df_filtered['primary_fuel'].apply(\n",
    "    lambda x: 1 if x in ['Solar', 'Wind'] else 0\n",
    ")\n"
   ]
  },
  {
   "cell_type": "code",
   "execution_count": 16,
   "id": "928eaef4-c939-43bc-9156-29c6620d35d0",
   "metadata": {},
   "outputs": [
    {
     "data": {
      "image/png": "[encoded data removed]",
      "text/plain": [
       "<Figure size 640x480 with 1 Axes>"
      ]
     },
     "metadata": {},
     "output_type": "display_data"
    }
   ],
   "source": [
    "### Step 4: Visualize the Impact of Policy Incentives on Electricity Generation\n",
    "import matplotlib.pyplot as plt  # For plotting\n",
    "\n",
    "# Group by policy incentive and calculate average electricity generation for 2017\n",
    "avg_generation = df_filtered.groupby('policy_incentive')['estimated_generation_gwh_2017'].mean()\n",
    "\n",
    "# Step 4: Plot the comparison\n",
    "avg_generation.plot(kind='bar', color=['gray', 'green'])\n",
    "\n",
    "plt.title(\"Average Electricity Generation in 2017\\nPolicy-Supported vs. Non-Supported Plants\")\n",
    "plt.ylabel(\"Avg. Generation (GWh)\")\n",
    "plt.xlabel(\"Policy Incentive (0 = No, 1 = Yes)\")\n",
    "plt.xticks(rotation=0)\n",
    "plt.grid(axis='y')\n",
    "plt.tight_layout()\n",
    "plt.show()\n"
   ]
  },
  {
   "cell_type": "code",
   "execution_count": 6,
   "id": "92e873c4-96ec-4c8e-8b4e-f5d2258cb0aa",
   "metadata": {},
   "outputs": [
    {
     "name": "stdout",
     "output_type": "stream",
     "text": [
      "\n",
      "Conclusion:\n",
      "\n",
      "From the above comparison, we can observe that power plants without policy incentives (like coal or hydro) \n",
      "have much higher average generation in 2017 compared to those with policy support (like solar or wind). \n",
      "\n",
      "This may be because non-supported plants are older, more established, and have higher capacity, \n",
      "while supported plants are relatively new and smaller in size.\n",
      "\n",
      "This shows that while policy-supported plants are growing, they still need more time and capacity \n",
      "to match traditional sources.\n",
      "\n",
      "Such analysis helps policymakers understand where support is needed to boost renewable energy output.\n",
      "\n"
     ]
    }
   ],
   "source": [
    "### Step 6: Conclusion\n",
    "\n",
    "conclusion = \"\"\"\n",
    "Conclusion:\n",
    "\n",
    "From the above comparison, we can observe that power plants without policy incentives (like coal or hydro) \n",
    "have much higher average generation in 2017 compared to those with policy support (like solar or wind). \n",
    "\n",
    "This may be because non-supported plants are older, more established, and have higher capacity, \n",
    "while supported plants are relatively new and smaller in size.\n",
    "\n",
    "This shows that while policy-supported plants are growing, they still need more time and capacity \n",
    "to match traditional sources.\n",
    "\n",
    "Such analysis helps policymakers understand where support is needed to boost renewable energy output.\n",
    "\"\"\"\n",
    "print(conclusion)\n"
   ]
  },
  {
   "cell_type": "code",
   "execution_count": 34,
   "id": "76b2ba2e-ea24-4db1-b937-afe3e248feb4",
   "metadata": {},
   "outputs": [],
   "source": [
    "### Step 6A: Import Libraries for DML\n",
    "\n",
    "from econml.dml import LinearDML\n",
    "from sklearn.ensemble import RandomForestClassifier  # Classifier for binary treatment\n",
    "from sklearn.linear_model import LassoCV\n",
    "from sklearn.model_selection import train_test_split\n",
    "from sklearn.preprocessing import StandardScaler\n",
    "import numpy as np\n"
   ]
  },
  {
   "cell_type": "code",
   "execution_count": 35,
   "id": "5372438d-77f7-429c-b55a-8d5b01ee6ce6",
   "metadata": {},
   "outputs": [],
   "source": [
    "# Step 6B: Drop rows with missing values in outcome and control variable\n",
    "df_dml = df_filtered.dropna(subset=['estimated_generation_gwh_2017', 'capacity_mw'])\n"
   ]
  },
  {
   "cell_type": "code",
   "execution_count": 36,
   "id": "b17cef4f-12b9-468c-8c6a-d80362e7dc90",
   "metadata": {},
   "outputs": [
    {
     "name": "stdout",
     "output_type": "stream",
     "text": [
      "Data ready for DoubleML:\n",
      "Y shape: (33138,), T shape: (33138,), X shape: (33138, 1)\n"
     ]
    }
   ],
   "source": [
    "### Step 6C: Define Y (Outcome), T (Treatment), X (Control)\n",
    "# Define outcome (Y), treatment (T), and features (X)\n",
    "Y = df_dml['estimated_generation_gwh_2017'].values      # Continuous outcome\n",
    "T = df_dml['policy_incentive'].values                   # Binary treatment (0 or 1)\n",
    "X = df_dml[['capacity_mw']].values                      # Control feature(s)\n",
    "\n",
    "# Optional: Scale the control variable\n",
    "scaler = StandardScaler()\n",
    "X_scaled = scaler.fit_transform(X)\n",
    "\n",
    "# Check the shapes\n",
    "print(\"Data ready for DoubleML:\")\n",
    "print(f\"Y shape: {Y.shape}, T shape: {T.shape}, X shape: {X_scaled.shape}\")\n"
   ]
  },
  {
   "cell_type": "code",
   "execution_count": 37,
   "id": "cf1b851d-2e92-4fc6-8234-fa194eb817ef",
   "metadata": {},
   "outputs": [
    {
     "name": "stdout",
     "output_type": "stream",
     "text": [
      "Estimated Average Treatment Effect (ATE): -306.31\n"
     ]
    }
   ],
   "source": [
    "# Step 6D: Fit the Double Machine Learning Model (LinearDML)\n",
    "model_y = LassoCV()                         # For continuous outcome\n",
    "model_t = RandomForestClassifier()          # Since treatment T is binary (0/1)\n",
    "\n",
    "# Create the DML estimator\n",
    "dml = LinearDML(model_y=model_y,\n",
    "                model_t=model_t,\n",
    "                discrete_treatment=True,\n",
    "                random_state=42)\n",
    "\n",
    "# Fit the DML estimator\n",
    "dml.fit(Y, T, X=X_scaled)\n",
    "\n",
    "# Estimate the Average Treatment Effect (ATE)\n",
    "ate = dml.ate(X=X_scaled)\n",
    "\n",
    "# Print the estimated ATE\n",
    "print(f\"Estimated Average Treatment Effect (ATE): {ate:.2f}\")\n"
   ]
  },
  {
   "cell_type": "code",
   "execution_count": 51,
   "id": "a5f3b254-b329-4eda-a640-3dbaf58afde2",
   "metadata": {},
   "outputs": [
    {
     "name": "stdout",
     "output_type": "stream",
     "text": [
      "\n",
      "Double Machine Learning (DML) Conclusion:\n",
      "\n",
      "We applied the LinearDML method to estimate the \"causal effect\" of renewable energy policy incentives \n",
      "(e.g., for Solar and Wind plants) on actual power generation in 2017.\n",
      "\n",
      "Estimated Average Treatment Effect (ATE): -306.31 MWh\n",
      "\n",
      " This means that, \"after adjusting for plant capacity\", power plants with policy incentives \n",
      "(e.g., Solar/Wind) generated, on average, \"306.31 MWh less\" than those without incentives (e.g., Hydro/Coal).\n",
      "\n",
      "Interpretation:\n",
      "- Renewable-supported plants are often newer, smaller, or still scaling up.\n",
      "- Traditional fuel plants (without incentives) are typically older, larger, and have optimized generation.\n",
      "\n",
      " Policy Insight:\n",
      "Although renewable incentives exist, the lower output suggests:\n",
      "- These plants need time and scale to catch up,\n",
      "- Policies should continue and \"focus on boosting capacity and efficiency\"\n",
      "- Continuous support is crucial for renewables to compete with traditional energy sources.\n",
      "\n",
      " This DML approach provides a **more accurate, unbiased estimate** of the causal impact by separating treatment and outcome modeling.\n",
      "\n"
     ]
    }
   ],
   "source": [
    "###Step 6E: DML Analysis Conclusion\n",
    "dml_conclusion = \"\"\"\n",
    "Double Machine Learning (DML) Conclusion:\n",
    "\n",
    "We applied the LinearDML method to estimate the \"causal effect\" of renewable energy policy incentives \n",
    "(e.g., for Solar and Wind plants) on actual power generation in 2017.\n",
    "\n",
    "Estimated Average Treatment Effect (ATE): -306.31 MWh\n",
    "\n",
    " This means that, \"after adjusting for plant capacity\", power plants with policy incentives \n",
    "(e.g., Solar/Wind) generated, on average, \"306.31 MWh less\" than those without incentives (e.g., Hydro/Coal).\n",
    "\n",
    "Interpretation:\n",
    "- Renewable-supported plants are often newer, smaller, or still scaling up.\n",
    "- Traditional fuel plants (without incentives) are typically older, larger, and have optimized generation.\n",
    "\n",
    " Policy Insight:\n",
    "Although renewable incentives exist, the lower output suggests:\n",
    "- These plants need time and scale to catch up,\n",
    "- Policies should continue and \"focus on boosting capacity and efficiency\"\n",
    "- Continuous support is crucial for renewables to compete with traditional energy sources.\n",
    "\n",
    " This DML approach provides a **more accurate, unbiased estimate** of the causal impact by separating treatment and outcome modeling.\n",
    "\"\"\"\n",
    "print(dml_conclusion)\n"
   ]
  },
  {
   "cell_type": "code",
   "execution_count": 49,
   "id": "dbcc9f2d-9e60-4bd9-9b6b-096f9020d44d",
   "metadata": {},
   "outputs": [],
   "source": [
    "###  Step 6F: Visualization – DML Estimated ATE Overlay\n",
    "\n",
    "#This bar chart compares the average electricity generation between non-policy and policy-incentivized plants, with the red dashed line representing the DML-estimated Average Treatment Effect (ATE).\n"
   ]
  },
  {
   "cell_type": "code",
   "execution_count": 45,
   "id": "63ed41ba-2114-408b-97dc-f316f0425c29",
   "metadata": {},
   "outputs": [
    {
     "data": {
      "image/png": "[encoded data removed]",
      "text/plain": [
       "<Figure size 600x400 with 1 Axes>"
      ]
     },
     "metadata": {},
     "output_type": "display_data"
    }
   ],
   "source": [
    "import matplotlib.pyplot as plt\n",
    "\n",
    "# Visual comparison again\n",
    "avg_gen = df_filtered.groupby('policy_incentive')['estimated_generation_gwh_2017'].mean()\n",
    "\n",
    "plt.figure(figsize=(6,4))\n",
    "bars = plt.bar(['Non-Policy (0)', 'Policy (1)'], avg_gen, color=['gray', 'green'])\n",
    "plt.axhline(avg_gen[0] - 303, color='red', linestyle='--', label='DML ATE')  # Adjust based on your ATE\n",
    "plt.title(\"DML: Average Generation with Estimated ATE\")\n",
    "plt.ylabel(\"Estimated Generation (GWh)\")\n",
    "plt.legend()\n",
    "plt.tight_layout()\n",
    "plt.show()\n"
   ]
  },
  {
   "cell_type": "code",
   "execution_count": 27,
   "id": "9967f18d-5bb2-4d0e-94da-5dac5b64f945",
   "metadata": {},
   "outputs": [],
   "source": [
    "#Step 7A: Apply Causal Forest DML\n",
    "#The Causal Forest method is a powerful technique for estimating heterogeneous treatment effects — i.e., how the effect of a policy might vary for different types of power plants (based on size, location, etc.)."
   ]
  },
  {
   "cell_type": "code",
   "execution_count": 41,
   "id": "620ece4f-6083-471a-ba93-9ee47d7479a9",
   "metadata": {},
   "outputs": [
    {
     "name": "stdout",
     "output_type": "stream",
     "text": [
      "Estimated ATE using Causal Forest (fixed): -325.80\n"
     ]
    }
   ],
   "source": [
    "### Step 7A: Apply Causal Forest DML\n",
    "\n",
    "from econml.dml import CausalForestDML\n",
    "from sklearn.ensemble import RandomForestRegressor, RandomForestClassifier\n",
    "\n",
    "# Define models for outcome and treatment\n",
    "model_y = RandomForestRegressor(n_estimators=100, random_state=42)\n",
    "model_t = RandomForestClassifier(n_estimators=100, random_state=42)\n",
    "\n",
    "# Initialize Causal Forest DML model\n",
    "cf_dml = CausalForestDML(\n",
    "    model_y=model_y,\n",
    "    model_t=model_t,\n",
    "    discrete_treatment=True,\n",
    "    n_estimators=100,\n",
    "    min_samples_leaf=10,\n",
    "    max_depth=10,\n",
    "    random_state=42\n",
    ")\n",
    "\n",
    "# Fit the model\n",
    "cf_dml.fit(Y, T, X=X_scaled)\n",
    "\n",
    "# Estimate ATE\n",
    "ate_cf = cf_dml.ate(X=X_scaled)\n",
    "print(f\"Estimated ATE using Causal Forest (fixed): {ate_cf:.2f}\")\n"
   ]
  },
  {
   "cell_type": "code",
   "execution_count": 42,
   "id": "ce6111bf-99d3-4e86-b278-9c29bb20e458",
   "metadata": {},
   "outputs": [
    {
     "name": "stdout",
     "output_type": "stream",
     "text": [
      "\n",
      "Causal Forest Conclusion:\n",
      "\n",
      "Using Causal Forest DML, the Average Treatment Effect (ATE) was estimated as -325.80 MWh.\n",
      "\n",
      "Interpretation:\n",
      "- Policy-supported renewable energy plants generated ~326 MWh **less** on average than non-supported ones, even after controlling for capacity.\n",
      "- This confirms previous DML findings and highlights a consistent trend across models.\n",
      "\n",
      "Insight:\n",
      "- Causal Forest captures non-linear effects and variation across different plant types.\n",
      "- Results suggest further scaling and sustained support are required for renewable plants to compete with established sources.\n",
      "\n",
      "Great for reporting and policymaker insights.\n",
      "\n"
     ]
    }
   ],
   "source": [
    " ###Step 7B: Conclusion for Causal Forest DML\n",
    "cf_conclusion = f\"\"\"\n",
    " Causal Forest Conclusion:\n",
    "\n",
    "Using Causal Forest DML, the Average Treatment Effect (ATE) was estimated as {ate_cf:.2f} MWh.\n",
    "\n",
    " Interpretation:\n",
    "- Policy-supported renewable energy plants generated ~{abs(ate_cf):.0f} MWh **less** on average than non-supported ones, even after controlling for capacity.\n",
    "- This confirms previous DML findings and highlights a consistent trend across models.\n",
    "\n",
    " Insight:\n",
    "- Causal Forest captures non-linear effects and variation across different plant types.\n",
    "- Results suggest further scaling and sustained support are required for renewable plants to compete with established sources.\n",
    "\n",
    " Great for reporting and policymaker insights.\n",
    "\"\"\"\n",
    "print(cf_conclusion)\n",
    "\n"
   ]
  },
  {
   "cell_type": "code",
   "execution_count": 48,
   "id": "0e05c42e-7122-4a2a-8755-b731ea9581b8",
   "metadata": {},
   "outputs": [],
   "source": [
    "### Step 7C: Visualization – Causal Forest Individual Effects\n",
    "\n",
    "#The histogram below shows the distribution of treatment effects across plants as estimated by the Causal Forest model. The majority of effects are negative, supporting the overall ATE finding.\n"
   ]
  },
  {
   "cell_type": "code",
   "execution_count": 46,
   "id": "c90a66d8-af51-4301-b335-e782aa4ca349",
   "metadata": {},
   "outputs": [
    {
     "data": {
      "image/png": "[encoded data removed]",
      "text/plain": [
       "<Figure size 640x480 with 1 Axes>"
      ]
     },
     "metadata": {},
     "output_type": "display_data"
    }
   ],
   "source": [
    "# Individual Treatment Effects\n",
    "te_preds = cf_dml.effect(X_scaled)\n",
    "\n",
    "plt.hist(te_preds, bins=30, color='skyblue', edgecolor='black')\n",
    "plt.title(\"Causal Forest: Distribution of Individual Treatment Effects\")\n",
    "plt.xlabel(\"Estimated Treatment Effect (GWh)\")\n",
    "plt.ylabel(\"Number of Plants\")\n",
    "plt.tight_layout()\n",
    "plt.show()\n"
   ]
  },
  {
   "cell_type": "code",
   "execution_count": 50,
   "id": "2978cd10-2274-40f1-bad2-39e37af34e10",
   "metadata": {},
   "outputs": [],
   "source": [
    "## Final Summary\n",
    "\n",
    "###  Key Findings:\n",
    "#- Linear DML ATE ≈ -306 GWh\n",
    "#- Causal Forest ATE ≈ -325 GWh\n",
    "\n",
    "#This consistency shows that \"policy-supported plants (solar/wind)\" generated significantly less electricity in 2017 compared to traditional plants, even after adjusting for plant size.\n",
    "\n",
    "###  Insight:\n",
    "#While policy incentives are vital, they must be supported with:\n",
    "#- Infrastructure\n",
    "#- Long-term funding\n",
    "#- Capacity expansion\n",
    "\n",
    "##Such causal methods reveal the \"real-world impact of energy policies\", guiding better decisions for a sustainable future.\n"
   ]
  },
  {
   "cell_type": "code",
   "execution_count": null,
   "id": "07d52ea1-ce5b-4721-859d-68c6823ef7a8",
   "metadata": {},
   "outputs": [],
   "source": []
  }
 ],
 "metadata": {
  "kernelspec": {
   "display_name": "Python 3 (ipykernel)",
   "language": "python",
   "name": "python3"
  },
  "language_info": {
   "codemirror_mode": {
    "name": "ipython",
    "version": 3
   },
   "file_extension": ".py",
   "mimetype": "text/x-python",
   "name": "python",
   "nbconvert_exporter": "python",
   "pygments_lexer": "ipython3",
   "version": "3.12.7"
  }
 },
 "nbformat": 4,
 "nbformat_minor": 5
}
